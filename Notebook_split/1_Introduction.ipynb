{
 "cells": [
  {
   "cell_type": "markdown",
   "metadata": {},
   "source": [
    "# Capstone project by David Fischer \n",
    "\n",
    "# Predicting airbnb prices in Melbourne. Do house prices, crime rates and neighbouring airbnb prices help to predict airbnb prices?"
   ]
  },
  {
   "cell_type": "markdown",
   "metadata": {},
   "source": [
    "Submitted in July 2020"
   ]
  },
  {
   "cell_type": "code",
   "execution_count": 1,
   "metadata": {},
   "outputs": [],
   "source": [
    "import pandas as pd\n",
    "import matplotlib.pyplot as plt\n",
    "import numpy as np\n",
    "from sklearn import linear_model\n",
    "from sklearn.metrics import mean_squared_error, r2_score, mean_absolute_error\n",
    "from sklearn.linear_model import LinearRegression, HuberRegressor, Ridge, Lasso \n",
    "from sklearn.preprocessing import PolynomialFeatures\n",
    "from sklearn.model_selection import train_test_split\n",
    "from sklearn.preprocessing import LabelEncoder\n",
    "from sklearn.model_selection import RandomizedSearchCV, GridSearchCV\n",
    "from sklearn.ensemble import RandomForestRegressor, AdaBoostRegressor, GradientBoostingRegressor, BaggingRegressor \n",
    "from sklearn.model_selection import PredefinedSplit\n",
    "from sklearn.preprocessing import StandardScaler\n",
    "from sklearn.pipeline import Pipeline\n",
    "from sklearn.decomposition import PCA\n",
    "from sklearn.pipeline import FeatureUnion\n",
    "from sklearn.preprocessing import FunctionTransformer\n",
    "import copy\n",
    "import xgboost as xgb\n",
    "import statsmodels.api as sm\n",
    "import os\n",
    "import seaborn as sns\n",
    "import pickle\n",
    "from heapq import nsmallest\n",
    "\n",
    "import warnings\n",
    "warnings.filterwarnings('ignore')\n",
    "\n",
    "# own modules\n",
    "from capstone_project import airbnb_data as air\n",
    "from capstone_project import housing_data as house\n",
    "from capstone_project import crime_data as crime\n",
    "\n",
    "%matplotlib inline"
   ]
  },
  {
   "cell_type": "markdown",
   "metadata": {},
   "source": [
    "## 0) Set-up"
   ]
  },
  {
   "cell_type": "markdown",
   "metadata": {},
   "source": [
    "### Style"
   ]
  },
  {
   "cell_type": "code",
   "execution_count": 2,
   "metadata": {},
   "outputs": [],
   "source": [
    "# Plot style\n",
    "#plt.style.use('seaborn-notebook')\n",
    "#print(plt.style.available)\n",
    "\n",
    "# Colors\n",
    "col1 = 'royalblue'\n",
    "col2 = 'crimson'"
   ]
  },
  {
   "cell_type": "markdown",
   "metadata": {},
   "source": [
    "### Own and other additional packages"
   ]
  },
  {
   "cell_type": "markdown",
   "metadata": {},
   "source": [
    "**Own package**  \n",
    "\n",
    "There is an own package called `capstone_project`. The package contains of the three modules `airbnb_data`, `housing_data` and `crime_data` where functions are defined to import, clean and aggregate the data. The function `_haversine_np()` in `airbnb_data` and `housing_data` is taken from https://stackoverflow.com/questions/29545704/fast-haversine-approximation-python-pandas. All other functions in this package are my own work:\n",
    "\n",
    "    capstone_project/:\n",
    "                        airbnb_data.py\n",
    "                        housing_data.py\n",
    "                        crime_data.py\n",
    "\n",
    "The most important functions are `_circle_candidates()`, `circle_observations()`, `aggregate_airbnb_data_circles()`, `the_nearest_obs()`, `the_nearest_obs_prices()`, `the_nearest_obs_housing()` and `the_nearest_obs_housing_prices()`. In these functions the whole logic of selecting observations and aggregating prices is implemented.\n",
    "\n",
    "**Additional package**\n",
    "\n",
    "`xgboost` is additionally installed on `exts-ml` so that we can learn models based on extreme gradient boosting (https://xgboost.readthedocs.io/en/latest/python/index.html):\n",
    "     \n",
    "    conda install -n exts-ml -c conda-forge --freeze-installed xgboost \n",
    "        \n",
    "<!--- conda install -n exts-ml -c calex --freeze-installed sklearn-pandas (not available) --->"
   ]
  },
  {
   "cell_type": "markdown",
   "metadata": {},
   "source": [
    "## 1) The problem"
   ]
  },
  {
   "cell_type": "markdown",
   "metadata": {},
   "source": [
    "In real estate a often stated mantra is *location, location, location*, which highlights the fact that the location is of great importance for house prices. It is likely that this finding also holds for airbnb data. Indeed, a first look at the log airbnb prices for different suburbs in Melbourne show some differences:"
   ]
  },
  {
   "cell_type": "code",
   "execution_count": 3,
   "metadata": {},
   "outputs": [
    {
     "data": {
      "text/html": [
       "<div>\n",
       "<style scoped>\n",
       "    .dataframe tbody tr th:only-of-type {\n",
       "        vertical-align: middle;\n",
       "    }\n",
       "\n",
       "    .dataframe tbody tr th {\n",
       "        vertical-align: top;\n",
       "    }\n",
       "\n",
       "    .dataframe thead th {\n",
       "        text-align: right;\n",
       "    }\n",
       "</style>\n",
       "<table border=\"1\" class=\"dataframe\">\n",
       "  <thead>\n",
       "    <tr style=\"text-align: right;\">\n",
       "      <th></th>\n",
       "      <th>Air_log_price_Entire home/apt_mean</th>\n",
       "      <th>Air_log_price_Entire home/apt_std_err</th>\n",
       "      <th>Air_log_price_Private room_mean</th>\n",
       "      <th>Air_log_price_Private room_std_err</th>\n",
       "      <th>Air_log_price_Shared room_mean</th>\n",
       "      <th>Air_log_price_Shared room_std_err</th>\n",
       "    </tr>\n",
       "  </thead>\n",
       "  <tbody>\n",
       "    <tr>\n",
       "      <th>3</th>\n",
       "      <td>1.910950</td>\n",
       "      <td>0.053272</td>\n",
       "      <td>1.689408</td>\n",
       "      <td>0.025630</td>\n",
       "      <td>NaN</td>\n",
       "      <td>NaN</td>\n",
       "    </tr>\n",
       "    <tr>\n",
       "      <th>9</th>\n",
       "      <td>1.976709</td>\n",
       "      <td>0.048811</td>\n",
       "      <td>1.688160</td>\n",
       "      <td>0.016321</td>\n",
       "      <td>1.588046</td>\n",
       "      <td>0.110924</td>\n",
       "    </tr>\n",
       "    <tr>\n",
       "      <th>16</th>\n",
       "      <td>1.981036</td>\n",
       "      <td>0.038924</td>\n",
       "      <td>1.741996</td>\n",
       "      <td>0.031190</td>\n",
       "      <td>1.508717</td>\n",
       "      <td>0.042179</td>\n",
       "    </tr>\n",
       "    <tr>\n",
       "      <th>26</th>\n",
       "      <td>1.991422</td>\n",
       "      <td>0.060083</td>\n",
       "      <td>1.686498</td>\n",
       "      <td>0.021913</td>\n",
       "      <td>1.612655</td>\n",
       "      <td>0.068587</td>\n",
       "    </tr>\n",
       "    <tr>\n",
       "      <th>0</th>\n",
       "      <td>1.997895</td>\n",
       "      <td>0.022308</td>\n",
       "      <td>1.686678</td>\n",
       "      <td>0.017221</td>\n",
       "      <td>1.642748</td>\n",
       "      <td>0.112309</td>\n",
       "    </tr>\n",
       "  </tbody>\n",
       "</table>\n",
       "</div>"
      ],
      "text/plain": [
       "    Air_log_price_Entire home/apt_mean  Air_log_price_Entire home/apt_std_err  \\\n",
       "3                             1.910950                               0.053272   \n",
       "9                             1.976709                               0.048811   \n",
       "16                            1.981036                               0.038924   \n",
       "26                            1.991422                               0.060083   \n",
       "0                             1.997895                               0.022308   \n",
       "\n",
       "    Air_log_price_Private room_mean  Air_log_price_Private room_std_err  \\\n",
       "3                          1.689408                            0.025630   \n",
       "9                          1.688160                            0.016321   \n",
       "16                         1.741996                            0.031190   \n",
       "26                         1.686498                            0.021913   \n",
       "0                          1.686678                            0.017221   \n",
       "\n",
       "    Air_log_price_Shared room_mean  Air_log_price_Shared room_std_err  \n",
       "3                              NaN                                NaN  \n",
       "9                         1.588046                           0.110924  \n",
       "16                        1.508717                           0.042179  \n",
       "26                        1.612655                           0.068587  \n",
       "0                         1.642748                           0.112309  "
      ]
     },
     "execution_count": 3,
     "metadata": {},
     "output_type": "execute_result"
    }
   ],
   "source": [
    "mean = pickle.load(open(\"airbnb_agg_wo_outliers.p\", \"rb\"))\n",
    "var = pickle.load(open(\"airbnb_agg_wo_outliers_var.p\", \"rb\"))\n",
    "count = pickle.load(open(\"airbnb_agg_wo_outliers_count.p\", \"rb\"))\n",
    "\n",
    "data = mean.merge(var, left_on='Air_neighbourhood_cleansed', right_on='Air_neighbourhood_cleansed',\n",
    "                 suffixes=('_mean', '_var'))\n",
    "\n",
    "data = data.merge(count, left_on='Air_neighbourhood_cleansed', right_on='Air_neighbourhood_cleansed',\n",
    "                 suffixes=('', '_count'))\n",
    "data.rename(columns={'Air_log_price_Entire home/apt': 'Air_log_price_Entire home/apt_count',\n",
    "                    'Air_log_price_Private room': 'Air_log_price_Private room_count',\n",
    "                    'Air_log_price_Shared room': 'Air_log_price_Shared room_count'},\n",
    "           inplace=True)\n",
    "\n",
    "data['Air_log_price_Entire home/apt_std_err'] = (data['Air_log_price_Entire home/apt_var'] / \\\n",
    "                                                data['Air_log_price_Entire home/apt_count']).pow(0.5)\n",
    "data['Air_log_price_Private room_std_err'] = (data['Air_log_price_Private room_var'] / \\\n",
    "                                                data['Air_log_price_Private room_count']).pow(0.5)\n",
    "data['Air_log_price_Shared room_std_err'] = (data['Air_log_price_Shared room_var'] / \\\n",
    "                                                data['Air_log_price_Shared room_count']).pow(0.5)\n",
    "\n",
    "data.sort_values(by='Air_log_price_Entire home/apt_mean', inplace=True)\n",
    "\n",
    "data.loc[:, ['Air_log_price_Entire home/apt_mean', 'Air_log_price_Entire home/apt_std_err', \n",
    "            'Air_log_price_Private room_mean', 'Air_log_price_Private room_std_err',\n",
    "            'Air_log_price_Shared room_mean', 'Air_log_price_Shared room_std_err']].head(5)"
   ]
  },
  {
   "cell_type": "code",
   "execution_count": 4,
   "metadata": {},
   "outputs": [
    {
     "data": {
      "text/html": [
       "<div>\n",
       "<style scoped>\n",
       "    .dataframe tbody tr th:only-of-type {\n",
       "        vertical-align: middle;\n",
       "    }\n",
       "\n",
       "    .dataframe tbody tr th {\n",
       "        vertical-align: top;\n",
       "    }\n",
       "\n",
       "    .dataframe thead th {\n",
       "        text-align: right;\n",
       "    }\n",
       "</style>\n",
       "<table border=\"1\" class=\"dataframe\">\n",
       "  <thead>\n",
       "    <tr style=\"text-align: right;\">\n",
       "      <th></th>\n",
       "      <th>Air_log_price_Entire home/apt_mean</th>\n",
       "      <th>Air_log_price_Entire home/apt_std_err</th>\n",
       "      <th>Air_log_price_Private room_mean</th>\n",
       "      <th>Air_log_price_Private room_std_err</th>\n",
       "      <th>Air_log_price_Shared room_mean</th>\n",
       "      <th>Air_log_price_Shared room_std_err</th>\n",
       "    </tr>\n",
       "  </thead>\n",
       "  <tbody>\n",
       "    <tr>\n",
       "      <th>1</th>\n",
       "      <td>2.142325</td>\n",
       "      <td>0.017239</td>\n",
       "      <td>1.852359</td>\n",
       "      <td>0.019135</td>\n",
       "      <td>1.720511</td>\n",
       "      <td>0.108794</td>\n",
       "    </tr>\n",
       "    <tr>\n",
       "      <th>14</th>\n",
       "      <td>2.151074</td>\n",
       "      <td>0.017166</td>\n",
       "      <td>1.842334</td>\n",
       "      <td>0.018742</td>\n",
       "      <td>1.673614</td>\n",
       "      <td>0.101055</td>\n",
       "    </tr>\n",
       "    <tr>\n",
       "      <th>18</th>\n",
       "      <td>2.160544</td>\n",
       "      <td>0.043121</td>\n",
       "      <td>1.742659</td>\n",
       "      <td>0.027417</td>\n",
       "      <td>1.849485</td>\n",
       "      <td>0.150515</td>\n",
       "    </tr>\n",
       "    <tr>\n",
       "      <th>4</th>\n",
       "      <td>2.191106</td>\n",
       "      <td>0.026774</td>\n",
       "      <td>1.951160</td>\n",
       "      <td>0.034945</td>\n",
       "      <td>1.602060</td>\n",
       "      <td>NaN</td>\n",
       "    </tr>\n",
       "    <tr>\n",
       "      <th>29</th>\n",
       "      <td>2.261924</td>\n",
       "      <td>0.008990</td>\n",
       "      <td>2.043623</td>\n",
       "      <td>0.019825</td>\n",
       "      <td>NaN</td>\n",
       "      <td>NaN</td>\n",
       "    </tr>\n",
       "  </tbody>\n",
       "</table>\n",
       "</div>"
      ],
      "text/plain": [
       "    Air_log_price_Entire home/apt_mean  Air_log_price_Entire home/apt_std_err  \\\n",
       "1                             2.142325                               0.017239   \n",
       "14                            2.151074                               0.017166   \n",
       "18                            2.160544                               0.043121   \n",
       "4                             2.191106                               0.026774   \n",
       "29                            2.261924                               0.008990   \n",
       "\n",
       "    Air_log_price_Private room_mean  Air_log_price_Private room_std_err  \\\n",
       "1                          1.852359                            0.019135   \n",
       "14                         1.842334                            0.018742   \n",
       "18                         1.742659                            0.027417   \n",
       "4                          1.951160                            0.034945   \n",
       "29                         2.043623                            0.019825   \n",
       "\n",
       "    Air_log_price_Shared room_mean  Air_log_price_Shared room_std_err  \n",
       "1                         1.720511                           0.108794  \n",
       "14                        1.673614                           0.101055  \n",
       "18                        1.849485                           0.150515  \n",
       "4                         1.602060                                NaN  \n",
       "29                             NaN                                NaN  "
      ]
     },
     "execution_count": 4,
     "metadata": {},
     "output_type": "execute_result"
    }
   ],
   "source": [
    "data.loc[:, ['Air_log_price_Entire home/apt_mean', 'Air_log_price_Entire home/apt_std_err', \n",
    "            'Air_log_price_Private room_mean', 'Air_log_price_Private room_std_err',\n",
    "            'Air_log_price_Shared room_mean', 'Air_log_price_Shared room_std_err']].tail(5)"
   ]
  },
  {
   "cell_type": "code",
   "execution_count": 5,
   "metadata": {},
   "outputs": [
    {
     "data": {
      "image/png": "[encoded data removed]",
      "text/plain": [
       "<Figure size 432x288 with 1 Axes>"
      ]
     },
     "metadata": {
      "needs_background": "light"
     },
     "output_type": "display_data"
    }
   ],
   "source": [
    "ax = sns.barplot(x=\"Air_neighbourhood_cleansed\", y=\"Air_log_price_Entire home/apt_mean\", data=data, color=col1)\n",
    "ax.set_xticklabels(ax.get_xticklabels(), rotation=90);"
   ]
  },
  {
   "cell_type": "markdown",
   "metadata": {},
   "source": [
    "From the table above we observe that the differences between the means are small. However, the standard errors of the estimations are small too. Without using statistical tests there seems to be some evidence that airbnb prices might be differ among neighbourhoods. \n",
    "\n",
    "Even if we correctly assume that the prices are different between suburbs we do not know what causes these differences. Possible reasons are for example that some suburbs are located nearer to the centre - also known as the Melbourne city centre or CBD - or the seadside, or are safer. People may value these attributes and are willing to pay higher prices. \n",
    "\n",
    "The goal of this project is to predict airbnb prices. One question of interest is whether we can improve the accuracy of our predictions when additional data on house prices, crime rates or other information related to the neighbourhood as for example the airbnb prices within a given radius from the reference observation are taken into account. Regarding crimes, Xu, Kim and Pennington-Gray (student project) conclude that \"Airbnb is positively related to property crime and negatively related to violent crime\" (p. 9). A high proportion of property crimes could thus be a proxy for high demand for airbnb accommondations, which positively affects prices if supply falls short. For the City of Melbourne provides this unique set of information is available.\n",
    "\n",
    "<!---The goal of this project is to shed light on how external data about housing prices and crime rates can be used to improve **predictions** of airbnb prices. There are two questions of interest:--->\n",
    "The following research questions summarizes our goal.\n",
    "<!---1. Is it possible to replace the neighbourhood and suburb variable in the airbnb dataset by external variables from either from the housing market or from the crime statistics provided by the City of Melbourne to achieve the same prediction accuracy? -->\n",
    "1. Are external data as housing prices or information about crime rates helpful to predict airbnb prices?\n",
    "<!---2. Can a better performance be achieved if the information about the longitude and latitude is used to aggregate the external data because aggregations could be finer and more appropriate (see the illustration)?--->\n",
    "2. Can predictions be improved if data of neighbouring airbnb or house prices are aggregated in a finer way based on the exact location represented by the longitude and latitude? \n",
    "\n",
    "The idea behind question 2) is illustrated in Fig. 1. The aggregation can also be done w.r.t. another variable as for instance the room or the property type. In such a set-up we could end up for example in aggregating all airbnb prices of the same room type that are located within a given radius. \n",
    "\n",
    "<!--- https://stackoverflow.com/questions/14675913/changing-image-size-in-markdown \n",
    "https://www.w3schools.com/tags/tag_figcaption.asp\n",
    "--->\n",
    "<center>\n",
    "<img src=\"/Images/Fig_1.png\" alt=\"drawing\" width=\"350\"/>\n",
    "    <figcaption> <b> Fig. 1: </b> Constructed aggregation of neighbouring accommodations. </figcaption>\n",
    "</center>\n",
    "\n",
    "<br>\n",
    "\n",
    "Literature <br>\n",
    "- XU, Yua-Hua; Kim, Jim-won; and Pennington-Gray, Lori, \"Explore the Spatial Relationship between Airbnb Rental and Crime\" (2017). *Travel and Tourism Research Association: Advancing Tourism Research Globally. 5.*"
   ]
  },
  {
   "cell_type": "markdown",
   "metadata": {},
   "source": [
    "### Methodology"
   ]
  },
  {
   "cell_type": "markdown",
   "metadata": {},
   "source": [
    "Next, we need to find a computationllay feasable way to select observations that lie within a given radius to the reference observation. A possible way is to construct a square represented by the differences in longitude and latitude from the reference observation that surrounds the circle of interest and then to select the observations that lie within the circle. Therefore, we need to find a way to derive the differences in longitude and latitude given a radius measured in meters, kilometers or another distance measure.\n",
    "\n",
    "From the literature it is known that the distance in km between two points with longitude and latitude measured in radians is given by (https://stackoverflow.com/questions/29545704/fast-haversine-approximation-python-pandas):\n",
    "\n",
    "$$ d = 6367 \\times 2 \\times  \\arcsin \\Big(\\sqrt{\\sin(d_{lat}/2 )^2 + \\cos(lat_1) \\times \\cos(lat_2) \\times \\sin(d_{lon}/2)^2} \\Big)$$\n",
    "\n",
    "where $d_{lon} := lon_2 - lon_1$ and $d_{lat} := lat_2 - lat_1$.\n",
    "\n",
    "For this project we start with a distance $d_{max}$ to then calculate:\n",
    "\n",
    "\\begin{align}\n",
    "d_{lon} &= 2 \\times \\arcsin\\Big( \\sqrt{ \\arcsin(a/\\cos(lat_1)^2) } \\Big) \\\\\n",
    "d_{lat} &= 2 \\times \\arcsin\\Big(\\sqrt{a}\\Big)\n",
    "\\end{align}\n",
    "\n",
    "given that $d_{lat} = 0$ and $d_{lon} = 0$, respectively, where $a = \\sin(d_{max} / (6367 \\times 2))^2$ in order to extract candidates, which are then tested with the distance formula. The approach is graphically illustrated in Fig. 2.\n",
    "\n",
    "<center>\n",
    "<img src=\"/Images/Fig_2.png\" alt=\"drawing\" width=\"350\"/>\n",
    "    <figcaption> <b> Fig. 2: </b> The approach to select neighbouring accommodations. </figcaption>\n",
    "</center>"
   ]
  },
  {
   "cell_type": "markdown",
   "metadata": {},
   "source": [
    "### Uniqueness of the work and related projects"
   ]
  },
  {
   "cell_type": "markdown",
   "metadata": {},
   "source": [
    "There are many projects that deal with airbnb data in general or Melbourne housing data. This work is to my knowledge unique in two ways:\n",
    "1. None of the project so far focuses on additional data as we do by investigating whether airbnb prices are influenced or just correlated by house prices or crime rates.\n",
    "2. We deal with alternative forms of prices aggregations, e.g by selecting neighbouring accommodations or house that lie within a circle and are of the same kind, e.g. same room, property (airbnb dataset) or house type (housing dataset).\n",
    "\n",
    "We are going to see that idea 1) does not and idea 2) does help to improve predictions. \n",
    "\n",
    "**Related works w.r.t the datasets**\n",
    "\n",
    "*housing_market:*\n",
    "\n",
    "- https://rpubs.com/kunaljubce/mlb_housing_data\n",
    "\n",
    "*airbnb:*\n",
    "\n",
    "- https://medium.com/datadriveninvestor/exploratory-data-analysis-on-airbnb-properties-in-paris-bce61bd680c8\n",
    "- https://medium.com/@jeffrisandy/where-to-stay-in-beijing-airbnb-795bb184acd7"
   ]
  }
 ],
 "metadata": {
  "kernelspec": {
   "display_name": "Python 3",
   "language": "python",
   "name": "python3"
  },
  "language_info": {
   "codemirror_mode": {
    "name": "ipython",
    "version": 3
   },
   "file_extension": ".py",
   "mimetype": "text/x-python",
   "name": "python",
   "nbconvert_exporter": "python",
   "pygments_lexer": "ipython3",
   "version": "3.7.3"
  }
 },
 "nbformat": 4,
 "nbformat_minor": 2
}
