{
 "cells": [
  {
   "cell_type": "markdown",
   "metadata": {},
   "source": [
    "## 5) Conclusion"
   ]
  },
  {
   "cell_type": "markdown",
   "metadata": {},
   "source": [
    "We have tested different models on different datasets. `Random Forest` and `XGBoost` show the best results on all of the datasets tested. Furthermore, the performance of the models improves when the constructed aggregations of neighbouring airbnb prices as `Air_log_prices_500m_same_room_type`, `Air_log_prices_100m_same_room_type` or `Air_log_prices_50m_same_room_type` are considered in the models. One  finding is that it is much easier to predict log transformed airbnb prices than airbnb prices - presumably due to outliers in the data. <br>\n",
    "\n",
    "We left out an analysis of the textual description of the accommodations. Furthermore, pictures of accommodations may also play an important role in the decision process of the users. It is thus not surprising that predicting airbnb prices remains difficult and more research needs to be done. \n",
    "\n",
    "\n",
    "<!---\n",
    "Done:\n",
    "\n",
    "- validation set\n",
    "- other models\n",
    "- hyperparameter optimization\n",
    "- nicer/better plots in 3a\n",
    "- PCA for variables about the size of the apartment and for the different review scores\n",
    "\n",
    "To Do / questions:\n",
    "\n",
    "- outliers (z-scores ...)\n",
    "- processing textual information (\"nice apartment\" ...) -> 2, 3 or more categories: positve, neutral, negative (if existing) \n",
    "- variable importance: How reasonable for continuous variables? Neighbouring airbnb prices are very important, but likely biased\n",
    "- others score. Should I also play with the metrics in grid search?\n",
    "- is it okay to use randomized grid search.\n",
    "- standard scaler is used in case of lin models with regularization and for xgb (also to speed up) and in one case for RF. Perhaps I should also use ist for AdaBoost.\n",
    "--->\n"
   ]
  }
 ],
 "metadata": {
  "kernelspec": {
   "display_name": "Python 3",
   "language": "python",
   "name": "python3"
  },
  "language_info": {
   "codemirror_mode": {
    "name": "ipython",
    "version": 3
   },
   "file_extension": ".py",
   "mimetype": "text/x-python",
   "name": "python",
   "nbconvert_exporter": "python",
   "pygments_lexer": "ipython3",
   "version": "3.7.3"
  }
 },
 "nbformat": 4,
 "nbformat_minor": 2
}
